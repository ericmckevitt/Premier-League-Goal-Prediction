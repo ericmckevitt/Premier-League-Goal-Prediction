{
 "cells": [
  {
   "cell_type": "code",
   "execution_count": 6,
   "metadata": {},
   "outputs": [
    {
     "name": "stdout",
     "output_type": "stream",
     "text": [
      "Collecting ImbalancedLearningRegression\n",
      "  Downloading ImbalancedLearningRegression-0.0.2-py3-none-any.whl.metadata (8.0 kB)\n",
      "Requirement already satisfied: numpy in ./ml_proj1/lib/python3.12/site-packages (from ImbalancedLearningRegression) (1.26.4)\n",
      "Requirement already satisfied: pandas in ./ml_proj1/lib/python3.12/site-packages (from ImbalancedLearningRegression) (2.2.3)\n",
      "Requirement already satisfied: tqdm in ./ml_proj1/lib/python3.12/site-packages (from ImbalancedLearningRegression) (4.67.1)\n",
      "Requirement already satisfied: scikit-learn in ./ml_proj1/lib/python3.12/site-packages (from ImbalancedLearningRegression) (1.5.2)\n",
      "Requirement already satisfied: python-dateutil>=2.8.2 in ./ml_proj1/lib/python3.12/site-packages (from pandas->ImbalancedLearningRegression) (2.9.0.post0)\n",
      "Requirement already satisfied: pytz>=2020.1 in ./ml_proj1/lib/python3.12/site-packages (from pandas->ImbalancedLearningRegression) (2024.2)\n",
      "Requirement already satisfied: tzdata>=2022.7 in ./ml_proj1/lib/python3.12/site-packages (from pandas->ImbalancedLearningRegression) (2024.2)\n",
      "Requirement already satisfied: scipy>=1.6.0 in ./ml_proj1/lib/python3.12/site-packages (from scikit-learn->ImbalancedLearningRegression) (1.12.0)\n",
      "Requirement already satisfied: joblib>=1.2.0 in ./ml_proj1/lib/python3.12/site-packages (from scikit-learn->ImbalancedLearningRegression) (1.4.2)\n",
      "Requirement already satisfied: threadpoolctl>=3.1.0 in ./ml_proj1/lib/python3.12/site-packages (from scikit-learn->ImbalancedLearningRegression) (3.5.0)\n",
      "Requirement already satisfied: six>=1.5 in ./ml_proj1/lib/python3.12/site-packages (from python-dateutil>=2.8.2->pandas->ImbalancedLearningRegression) (1.16.0)\n",
      "Downloading ImbalancedLearningRegression-0.0.2-py3-none-any.whl (77 kB)\n",
      "Installing collected packages: ImbalancedLearningRegression\n",
      "Successfully installed ImbalancedLearningRegression-0.0.2\n",
      "\n",
      "\u001b[1m[\u001b[0m\u001b[34;49mnotice\u001b[0m\u001b[1;39;49m]\u001b[0m\u001b[39;49m A new release of pip is available: \u001b[0m\u001b[31;49m24.2\u001b[0m\u001b[39;49m -> \u001b[0m\u001b[32;49m24.3.1\u001b[0m\n",
      "\u001b[1m[\u001b[0m\u001b[34;49mnotice\u001b[0m\u001b[1;39;49m]\u001b[0m\u001b[39;49m To update, run: \u001b[0m\u001b[32;49mpip install --upgrade pip\u001b[0m\n"
     ]
    }
   ],
   "source": [
    "!pip install ImbalancedLearningRegression"
   ]
  },
  {
   "cell_type": "code",
   "execution_count": null,
   "metadata": {},
   "outputs": [
    {
     "name": "stderr",
     "output_type": "stream",
     "text": [
      "/Users/ericmckevitt/Desktop/Stuff/Code/Mines/CSCI575/Soccer Goals Prediction/ml_proj1/lib/python3.12/site-packages/smogn/phi.py:81: RuntimeWarning: divide by zero encountered in scalar divide\n",
      "  delta.append((y_rel[i + 1] - y_rel[i]) / h[i])\n"
     ]
    },
    {
     "ename": "ValueError",
     "evalue": "redefine phi relevance function: all points are 0",
     "output_type": "error",
     "traceback": [
      "\u001b[0;31m---------------------------------------------------------------------------\u001b[0m",
      "\u001b[0;31mValueError\u001b[0m                                Traceback (most recent call last)",
      "Cell \u001b[0;32mIn[5], line 9\u001b[0m\n\u001b[1;32m      6\u001b[0m df \u001b[38;5;241m=\u001b[39m pd\u001b[38;5;241m.\u001b[39mread_csv(\u001b[38;5;124m\"\u001b[39m\u001b[38;5;124mprocessed.csv\u001b[39m\u001b[38;5;124m\"\u001b[39m)\n\u001b[1;32m      8\u001b[0m \u001b[38;5;66;03m# Apply SMOGN to handle the imbalance in 'Goals'\u001b[39;00m\n\u001b[0;32m----> 9\u001b[0m df_smogn \u001b[38;5;241m=\u001b[39m \u001b[43msmogn\u001b[49m\u001b[38;5;241;43m.\u001b[39;49m\u001b[43msmoter\u001b[49m\u001b[43m(\u001b[49m\n\u001b[1;32m     10\u001b[0m \u001b[43m    \u001b[49m\u001b[43mdata\u001b[49m\u001b[38;5;241;43m=\u001b[39;49m\u001b[43mdf\u001b[49m\u001b[43m,\u001b[49m\n\u001b[1;32m     11\u001b[0m \u001b[43m    \u001b[49m\u001b[43my\u001b[49m\u001b[38;5;241;43m=\u001b[39;49m\u001b[38;5;124;43m'\u001b[39;49m\u001b[38;5;124;43mGoals\u001b[39;49m\u001b[38;5;124;43m'\u001b[39;49m\u001b[43m,\u001b[49m\u001b[43m               \u001b[49m\u001b[38;5;66;43;03m# Target column\u001b[39;49;00m\n\u001b[1;32m     12\u001b[0m \u001b[43m    \u001b[49m\u001b[43mk\u001b[49m\u001b[38;5;241;43m=\u001b[39;49m\u001b[38;5;241;43m5\u001b[39;49m\u001b[43m,\u001b[49m\u001b[43m                     \u001b[49m\u001b[38;5;66;43;03m# Number of neighbors for generating synthetic samples\u001b[39;49;00m\n\u001b[1;32m     13\u001b[0m \u001b[43m    \u001b[49m\u001b[43msamp_method\u001b[49m\u001b[38;5;241;43m=\u001b[39;49m\u001b[38;5;124;43m'\u001b[39;49m\u001b[38;5;124;43mbalance\u001b[39;49m\u001b[38;5;124;43m'\u001b[39;49m\u001b[43m,\u001b[49m\u001b[43m   \u001b[49m\u001b[38;5;66;43;03m# Balances over-sampling and under-sampling\u001b[39;49;00m\n\u001b[1;32m     14\u001b[0m \u001b[43m    \u001b[49m\u001b[43munder_samp\u001b[49m\u001b[38;5;241;43m=\u001b[39;49m\u001b[38;5;241;43m0.6\u001b[39;49m\u001b[43m,\u001b[49m\u001b[43m          \u001b[49m\u001b[38;5;66;43;03m# Under-sampling proportion\u001b[39;49;00m\n\u001b[1;32m     15\u001b[0m \u001b[43m    \u001b[49m\u001b[43mrel_thres\u001b[49m\u001b[38;5;241;43m=\u001b[39;49m\u001b[38;5;241;43m0.8\u001b[39;49m\u001b[43m            \u001b[49m\u001b[38;5;66;43;03m# Threshold to detect outliers\u001b[39;49;00m\n\u001b[1;32m     16\u001b[0m \u001b[43m)\u001b[49m\n\u001b[1;32m     18\u001b[0m \u001b[38;5;66;03m# Separate features and target after SMOGN\u001b[39;00m\n\u001b[1;32m     19\u001b[0m y_smogn \u001b[38;5;241m=\u001b[39m df_smogn[\u001b[38;5;124m\"\u001b[39m\u001b[38;5;124mGoals\u001b[39m\u001b[38;5;124m\"\u001b[39m]\n",
      "File \u001b[0;32m~/Desktop/Stuff/Code/Mines/CSCI575/Soccer Goals Prediction/ml_proj1/lib/python3.12/site-packages/smogn/smoter.py:180\u001b[0m, in \u001b[0;36msmoter\u001b[0;34m(data, y, k, pert, samp_method, under_samp, drop_na_col, drop_na_row, replace, rel_thres, rel_method, rel_xtrm_type, rel_coef, rel_ctrl_pts_rg)\u001b[0m\n\u001b[1;32m    177\u001b[0m     \u001b[38;5;28;01mraise\u001b[39;00m \u001b[38;5;167;01mValueError\u001b[39;00m(\u001b[38;5;124m\"\u001b[39m\u001b[38;5;124mredefine phi relevance function: all points are 1\u001b[39m\u001b[38;5;124m\"\u001b[39m)\n\u001b[1;32m    179\u001b[0m \u001b[38;5;28;01mif\u001b[39;00m \u001b[38;5;28mall\u001b[39m(i \u001b[38;5;241m==\u001b[39m \u001b[38;5;241m1\u001b[39m \u001b[38;5;28;01mfor\u001b[39;00m i \u001b[38;5;129;01min\u001b[39;00m y_phi):\n\u001b[0;32m--> 180\u001b[0m     \u001b[38;5;28;01mraise\u001b[39;00m \u001b[38;5;167;01mValueError\u001b[39;00m(\u001b[38;5;124m\"\u001b[39m\u001b[38;5;124mredefine phi relevance function: all points are 0\u001b[39m\u001b[38;5;124m\"\u001b[39m)\n\u001b[1;32m    181\u001b[0m \u001b[38;5;66;03m## ---------------------------------------------------------------------- ##\u001b[39;00m\n\u001b[1;32m    182\u001b[0m \n\u001b[1;32m    183\u001b[0m \u001b[38;5;66;03m## determine bin (rare or normal) by bump classification\u001b[39;00m\n\u001b[1;32m    184\u001b[0m bumps \u001b[38;5;241m=\u001b[39m [\u001b[38;5;241m0\u001b[39m]\n",
      "\u001b[0;31mValueError\u001b[0m: redefine phi relevance function: all points are 0"
     ]
    }
   ],
   "source": [
    "import pandas as pd\n",
    "# from imbalanced_regression import smogn\n",
    "import ImbalancedLearningRegression\n",
    "import smogn\n",
    "\n",
    "# Load your data\n",
    "df = pd.read_csv(\"processed.csv\")\n",
    "\n",
    "# Apply SMOGN to handle the imbalance in 'Goals'\n",
    "df_smogn = smogn.smoter(\n",
    "    data=df,\n",
    "    y='Goals',               # Target column\n",
    "    k=5,                     # Number of neighbors for generating synthetic samples\n",
    "    samp_method='balance',   # Balances over-sampling and under-sampling\n",
    "    under_samp=0.6,          # Under-sampling proportion\n",
    "    rel_thres=0.8            # Threshold to detect outliers\n",
    ")\n",
    "\n",
    "# Separate features and target after SMOGN\n",
    "y_smogn = df_smogn[\"Goals\"]\n",
    "X_smogn = df_smogn.drop(columns=[\"Goals\"])\n",
    "\n",
    "# Proceed with scaling, train-test split, and modeling as usual\n",
    "from sklearn.preprocessing import StandardScaler\n",
    "from sklearn.model_selection import train_test_split\n",
    "\n",
    "# Scale numeric features\n",
    "numeric_columns = X_smogn.select_dtypes(include=['number']).columns\n",
    "scaler = StandardScaler()\n",
    "X_smogn[numeric_columns] = scaler.fit_transform(X_smogn[numeric_columns])\n",
    "\n",
    "# Split the augmented dataset\n",
    "X_train_smogn, X_test_smogn, y_train_smogn, y_test_smogn = train_test_split(X_smogn, y_smogn, test_size=0.2, random_state=42)\n",
    "\n",
    "# Train Random Forest on the augmented data\n",
    "from sklearn.ensemble import RandomForestRegressor\n",
    "\n",
    "rf_smogn = RandomForestRegressor(random_state=42)\n",
    "rf_smogn.fit(X_train_smogn, y_train_smogn)\n",
    "\n",
    "# Evaluate on the test set\n",
    "y_pred_smogn = rf_smogn.predict(X_test_smogn)\n",
    "\n",
    "# Calculate metrics\n",
    "from sklearn.metrics import mean_squared_error, mean_absolute_error\n",
    "\n",
    "mse_smogn = mean_squared_error(y_test_smogn, y_pred_smogn)\n",
    "mae_smogn = mean_absolute_error(y_test_smogn, y_pred_smogn)\n",
    "print(f\"Mean Squared Error after SMOGN: {mse_smogn}\")\n",
    "print(f\"Mean Absolute Error after SMOGN: {mae_smogn}\")"
   ]
  }
 ],
 "metadata": {
  "kernelspec": {
   "display_name": "ml_proj1",
   "language": "python",
   "name": "python3"
  },
  "language_info": {
   "codemirror_mode": {
    "name": "ipython",
    "version": 3
   },
   "file_extension": ".py",
   "mimetype": "text/x-python",
   "name": "python",
   "nbconvert_exporter": "python",
   "pygments_lexer": "ipython3",
   "version": "3.12.7"
  }
 },
 "nbformat": 4,
 "nbformat_minor": 2
}
